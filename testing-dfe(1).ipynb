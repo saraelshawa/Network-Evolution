{
 "cells": [
  {
   "cell_type": "markdown",
   "metadata": {},
   "source": [
    "## notes for what the function should take\n",
    "bootstrap_number, default is 100\n",
    "\n",
    "\n",
    "network metric, either between centrality, connectivity\n",
    "\n",
    "\n",
    "top and bottom which percent (default 10%)\n",
    "\n",
    "current working directory\n"
   ]
  },
  {
   "cell_type": "code",
   "execution_count": 8,
   "metadata": {},
   "outputs": [],
   "source": [
    "import pandas as pd\n",
    "from itertools import product\n",
    "import pandas as pd\n",
    "import numpy as np\n",
    "from collections import Counter\n",
    "import collections\n",
    "from numpy import random as rd\n",
    "from ness_vcf import SFS\n",
    "import os\n",
    "import re\n"
   ]
  },
  {
   "cell_type": "code",
   "execution_count": 9,
   "metadata": {},
   "outputs": [
    {
     "name": "stdout",
     "output_type": "stream",
     "text": [
      "rm: cannot remove `conn*': No such file or directory\n",
      "rm: cannot remove `upper*': No such file or directory\n",
      "rm: cannot remove `lower*': No such file or directory\n",
      "rm: cannot remove `0*': No such file or directory\n",
      "rm: cannot remove `bet*': No such file or directory\n",
      "rm: cannot remove `dfe_outfile_*': No such file or directory\n",
      "rm: cannot remove `output.txt': No such file or directory\n",
      "rm: cannot remove `prop_muts_in_s_ranges.out': No such file or directory\n",
      "rm: cannot remove `low_conn*': No such file or directory\n",
      "rm: cannot remove `alpha_omega_a_between_centrality.png': No such file or directory\n",
      "rm: cannot remove `random*': No such file or directory\n"
     ]
    }
   ],
   "source": [
    "#deleting all to start a new bootstrap \n",
    "!rm -r conn*\n",
    "!rm -r run*\n",
    "!rm -r upper*\n",
    "!rm -r lower*\n",
    "!rm -r 0*\n",
    "!rm -r bet*\n",
    "!rm -r dfe_outfile_*\n",
    "!rm -r output.txt\n",
    "!rm -r prop_muts_in_s_ranges.out\n",
    "!rm -r low_conn*\n",
    "!rm -r alpha_omega_a_between_centrality.png\n",
    "!rm -r random*"
   ]
  },
  {
   "cell_type": "code",
   "execution_count": 10,
   "metadata": {},
   "outputs": [],
   "source": [
    "os.mkdir(\"./runs\")\n",
    "for i in range(1,2):\n",
    "    os.mkdir(\"./runs/run\" + str(i))\n",
    "    "
   ]
  },
  {
   "cell_type": "code",
   "execution_count": 11,
   "metadata": {},
   "outputs": [
    {
     "data": {
      "text/plain": [
       "'/scratch/research/projects/chlamydomonas/network_evolution/analysis/August2020_Sara/bootstrap'"
      ]
     },
     "execution_count": 11,
     "metadata": {},
     "output_type": "execute_result"
    }
   ],
   "source": [
    "# os.chdir(\"/scratch/research/projects/chlamydomonas/network_evolution/analysis/August2020_Sara/bootstrap\")\n",
    "os.getcwd()"
   ]
  },
  {
   "cell_type": "code",
   "execution_count": 12,
   "metadata": {},
   "outputs": [],
   "source": [
    "#bootstrapping \n",
    "\n",
    "# os.chdir(\"/scratch/research/projects/chlamydomonas/network_evolution/analysis/dfe/bootstrap/\")\n",
    "\n",
    "# !cd /scratch/research/projects/chlamydomonas/network_evolution/analysis/dfe/bootstrap/\n",
    "# !pwd"
   ]
  },
  {
   "cell_type": "code",
   "execution_count": 13,
   "metadata": {},
   "outputs": [],
   "source": [
    "def get_dfe_outputs(filename, t):\n",
    "    with open(filename) as f:\n",
    "        content = f.readlines()[0]\n",
    "        print(content)\n",
    "        match = re.search('lambda (\\d+.\\d+) selected_divergence (\\d+.\\d+) alpha (\\d+.\\d+) omega_A (\\d+.\\d+)', content)\n",
    "        with open(t+'_lambda.txt', 'a') as the_file:\n",
    "            the_file.write(\"{}\\n\".format(match.group(1)))\n",
    "        with open(t+'_selected_divergence.txt', 'a') as the_file:\n",
    "            the_file.write(\"{}\\n\".format(match.group(2)))\n",
    "        with open(t+'_alpha.txt', 'a') as the_file:\n",
    "            the_file.write(\"{}\\n\".format(match.group(3)))\n",
    "        with open(t+'_omega_A.txt', 'a') as the_file:\n",
    "            the_file.write(\"{}\\n\".format(match.group(4)))"
   ]
  },
  {
   "cell_type": "code",
   "execution_count": 14,
   "metadata": {},
   "outputs": [
    {
     "name": "stdout",
     "output_type": "stream",
     "text": [
      "Index(['Unnamed: 0', 'Unnamed: 0.1', 'SUID', 'AverageShortestPathLength',\n",
      "       'BetweennessCentrality', 'ClosenessCentrality', 'ClusteringCoefficient',\n",
      "       'Degree', 'Eccentricity', 'IsSingleNode', 'kineticLaw-',\n",
      "       'kineticLaw--units', 'name', 'NeighborhoodConnectivity',\n",
      "       'NumberOfDirectedEdges', 'NumberOfUndirectedEdges',\n",
      "       'PartnerOfMultiEdgedNodePairs', 'Radiality', 'sbml charge',\n",
      "       'sbml compartment', 'sbml id', 'sbml initial amount',\n",
      "       'sbml initial concentration', 'sbml type', 'selected', 'SelfLoops',\n",
      "       'shared name', 'Stress', 'TopologicalCoefficient', 'genename',\n",
      "       'new_names', 'new_association', 'reinhardtii_gene', 'number',\n",
      "       'Gene_name', 'differences_0', 'total_0', 'JC_distance_0',\n",
      "       'differences_2', 'total_2', 'JC_distance_2', 'differences_4', 'total_4',\n",
      "       'JC_distance_4', 'SFS0', 'SFS0_theta_pi', 'SFS4', 'SFS4_theta_pi',\n",
      "       'connectivity', 'max_connectivity', 'sum_connectivity', 'new_name'],\n",
      "      dtype='object')\n"
     ]
    },
    {
     "name": "stderr",
     "output_type": "stream",
     "text": [
      "/home/shawasar/.local/lib/python3.5/site-packages/ipykernel_launcher.py:1: FutureWarning: read_table is deprecated, use read_csv instead.\n",
      "  \"\"\"Entry point for launching an IPython kernel.\n"
     ]
    }
   ],
   "source": [
    "df = pd.read_table(\"new_485_genes_all_network_metrics.csv\", sep=\",\")\n",
    "print(df.columns)"
   ]
  },
  {
   "cell_type": "code",
   "execution_count": 26,
   "metadata": {},
   "outputs": [],
   "source": [
    "%matplotlib inline\n",
    "\n",
    "\n",
    "def sum_SFSs(list_of_SFSs):\n",
    "    # for a bunch of SFSs that are the same length sum them alllll up into one big one\\\n",
    "#     sfs_size = len(list_of_SFSs[0])\n",
    "#     for i in range(sfs_size):\n",
    "#         sum([sfs[i] for sfs in list_of_SFSs ]\n",
    "    total_SFS = [sum(i) for i in zip(*list_of_SFSs)]\n",
    "    return total_SFS\n",
    "\n",
    "def column2SFSs(column_of_SFSs):\n",
    "    list_of_SFSs = []\n",
    "    for s in list(column_of_SFSs):\n",
    "        exec(\"list_of_SFSs.append(\" + s + \")\")\n",
    "    return list_of_SFSs\n",
    "\n",
    "def make_dfe_inputs(lower_path, upper_path):\n",
    "    df = pd.read_table('new_485_genes_all_network_metrics.csv', sep=\",\")\n",
    "    \n",
    "    x = \"max_connectivity\"\n",
    "    gene_name = \"Gene_name\"\n",
    "    cutoff_percent  = 0.10\n",
    "    percentage = \"10\"\n",
    "    number_genes = df.shape[0]\n",
    "    cutoff_number = round(number_genes*cutoff_percent)\n",
    "    cutoff_high  = sorted(list(df[x]))[number_genes-cutoff_number]\n",
    "    cutoff_low = sorted(list(df[x]))[cutoff_number]\n",
    "\n",
    "    df_low = df[df[x] <= cutoff_low]\n",
    "    df_high = df[df[x] >= cutoff_high]\n",
    "    \n",
    "#     print(df_low)\n",
    "\n",
    "    df_low_names = df_low[gene_name].tolist()\n",
    "    random_low_lst = (list(rd.choice(df_low_names, size=100, replace=True)))  # cleaned = df[df['genename'].isin(keep_lst)] #ignores duplicates so this is wrong \n",
    "    low_newDF = pd.DataFrame() #creates a new dataframe that's empty\n",
    "    for key,value in (dict(Counter(random_low_lst)).items()):\n",
    "        for i in range(value):\n",
    "                low_newDF = low_newDF.append(df_low.loc[df_low[gene_name] == key]) # ignoring index is optional\n",
    "\n",
    "                \n",
    "    df_high_names = df_high[gene_name].tolist()\n",
    "    random_high_lst = (list(rd.choice(df_high_names, size=100, replace=True)))\n",
    "    high_newDF = pd.DataFrame() #creates a new dataframe that's empty\n",
    "    for key,value in (dict(Counter(random_high_lst)).items()):\n",
    "        for i in range(value):\n",
    "                high_newDF = high_newDF.append(df_high.loc[df_high[gene_name] == key]) # ignoring index is optional\n",
    "        \n",
    "\n",
    "    total_SFS0_low = SFS(sum_SFSs(column2SFSs(low_newDF.SFS0)))\n",
    "    total_SFS4_low = SFS(sum_SFSs(column2SFSs(low_newDF.SFS4)))\n",
    "    total_SFS0_high = SFS(sum_SFSs(column2SFSs(high_newDF.SFS0)))\n",
    "    total_SFS4_high= SFS(sum_SFSs(column2SFSs(high_newDF.SFS4)))\n",
    "\n",
    "    SFSs = [total_SFS0_low,total_SFS4_low,total_SFS0_high,total_SFS4_high]\n",
    "    \n",
    "    for s in SFSs:\n",
    "        s.fold()\n",
    "\n",
    "    sfs_lower_network_measure = \"SFS.lower\" + str(percentage) + \"th_\" + str(network_measure) + \".txt\"\n",
    "    SFS_lower_0 = \" \".join(str(item) for item in SFSs[0].sfs)\n",
    "    SFS_lower_1 = \" \".join(str(item) for item in SFSs[1].sfs)\n",
    "    !printf \"1\\n18\\n\" > $lower_path/$sfs_lower_network_measure\n",
    "    !echo $SFS_lower_0 >> $lower_path/$sfs_lower_network_measure\n",
    "    !echo $SFS_lower_1 >> $lower_path/$sfs_lower_network_measure\n",
    "    \n",
    "    \n",
    "    sfs_upper_network_measure = \"SFS.upper\" + str(percentage) + \"th_\" + str(network_measure) + \".txt\"\n",
    "    SFS_upper_0 = \" \".join(str(item) for item in SFSs[2].sfs)\n",
    "    SFS_upper_1 = \" \".join(str(item) for item in SFSs[3].sfs)\n",
    "    !printf \"1\\n18\\n\" > $upper_path/$sfs_upper_network_measure\n",
    "    !echo $SFS_upper_0 >> $upper_path/$sfs_upper_network_measure\n",
    "    !echo $SFS_upper_1 >> $upper_path/$sfs_upper_network_measure\n",
    "    \n",
    "    divergence_lower_network_measure = \"divergence.lower\" +str(percentage) + \"th_\" + str(network_measure) + \".txt\"\n",
    "    low_sites_0 = sum(low_newDF.total_0)\n",
    "    low_diff_0 = sum(low_newDF.differences_0)\n",
    "    low_sites_4 = sum(low_newDF.total_4)\n",
    "    low_diff_4 = sum(low_newDF.differences_4)\n",
    "    !echo 1 $low_sites_0 $low_diff_0 > $lower_path/$divergence_lower_network_measure\n",
    "    !echo 0 $low_sites_4 $low_diff_4 >> $lower_path/$divergence_lower_network_measure\n",
    "\n",
    "    divergence_upper_network_measure = \"divergence.upper\" + str(percentage) + \"th_\" + str(network_measure) + \".txt\"\n",
    "    high_sites_0 = sum(high_newDF.total_0)\n",
    "    high_diff_0 = sum(high_newDF.differences_0)\n",
    "    high_sites_4 = sum(high_newDF.total_4)\n",
    "    high_diff_4 = sum(high_newDF.differences_4)\n",
    "    !echo 1 $high_sites_0 $high_diff_0 > $upper_path/$divergence_upper_network_measure\n",
    "    !echo 0 $high_sites_4 $high_diff_4 >> $upper_path/$divergence_upper_network_measure\n",
    "    \n",
    "    \n",
    "    \n",
    "#     print(\"perc Sites Diffs\")\n",
    "#     print(\"Low: \", sum(low_newDF.total_0), sum(low_newDF.differences_0))\n",
    "#     print(\"Low: \", sum(low_newDF.total_4), sum(low_newDF.differences_4))\n",
    "#     print(\"High: \", sum(high_newDF.total_0), sum(high_newDF.differences_0))\n",
    "#     print(\"High: \", sum(high_newDF.total_4), sum(high_newDF.differences_4))"
   ]
  },
  {
   "cell_type": "code",
   "execution_count": null,
   "metadata": {},
   "outputs": [],
   "source": []
  },
  {
   "cell_type": "code",
   "execution_count": 27,
   "metadata": {},
   "outputs": [
    {
     "name": "stdout",
     "output_type": "stream",
     "text": [
      "/scratch/research/projects/chlamydomonas/network_evolution/analysis/August2020_Sara/bootstrap/runs\n",
      "this is the path /scratch/research/projects/chlamydomonas/network_evolution/analysis/August2020_Sara/bootstrap/runs/run1\n"
     ]
    },
    {
     "name": "stderr",
     "output_type": "stream",
     "text": [
      "/home/shawasar/.local/lib/python3.5/site-packages/ipykernel_launcher.py:19: FutureWarning: read_table is deprecated, use read_csv instead.\n"
     ]
    },
    {
     "name": "stdout",
     "output_type": "stream",
     "text": [
      "/scratch/research/projects/chlamydomonas/network_evolution/analysis/August2020_Sara/bootstrap\n",
      "data_path_1    '' \\nsfs_input_file    ///SFS..txt \\nest_dfe_results_dir   /// \\nsite_class 0 \\nfold       1 \\nepochs\n",
      "/bin/sh: ///run..est_dfe-site_class0.config.txt: Permission denied\n",
      "CPU times: user 5.07 s, sys: 103 ms, total: 5.17 s\n",
      "Wall time: 6.49 s\n"
     ]
    }
   ],
   "source": [
    "%%time\n",
    "import os\n",
    "rootdir = \"/scratch/research/projects/chlamydomonas/network_evolution/analysis/August2020_Sara/bootstrap/runs\"\n",
    "print(rootdir)\n",
    "i = 0\n",
    "upper = \"upper10th\"\n",
    "lower = \"lower10th\"\n",
    "network_measure = \"connectivity\"\n",
    "for subdir, dirs, files in os.walk(rootdir):\n",
    "    for folder in dirs:\n",
    "        if folder.startswith(\"r\"):\n",
    "            new_path = os.path.join(subdir, folder)\n",
    "            print(\"this is the path \" + str(new_path))\n",
    "            os.chdir(new_path) #change directory to new_path \n",
    "            if not os.path.exists(upper) and not os.path.exists(lower):\n",
    "                os.makedirs(upper)\n",
    "                os.makedirs(lower)\n",
    "                \n",
    "            #make folders in lower folder for each bootstrap   \n",
    "            os.chdir(new_path + \"/\" + lower) #change directory to new_path\n",
    "            if not os.path.exists(lower + \"_\" + network_measure + \"_neutral\") and not os.path.exists(lower + \"_\" + network_measure + \"_selected\"):\n",
    "                os.makedirs(lower + \"_\" + network_measure + \"_neutral\")\n",
    "                os.makedirs(lower + \"_\" + network_measure + \"_selected\")\n",
    "            \n",
    "            os.chdir(new_path + \"/\" + upper) #change directory to new_path\n",
    "            \n",
    "            if not os.path.exists(upper + \"_\" + network_measure + \"_neutral\") and not os.path.exists(upper + \"_\" + network_measure + \"_selected\"):\n",
    "                os.makedirs(upper + \"_\" + network_measure + \"_neutral\")\n",
    "                os.makedirs(upper + \"_\" + network_measure + \"_selected\")\n",
    "\n",
    "\n",
    "\n",
    "#             send the two paths (upper10th and lower10th to the function, to enter divergence and diversity )\n",
    "            os.chdir(\"/scratch/research/projects/chlamydomonas/network_evolution/analysis/August2020_Sara/bootstrap/\")\n",
    "            make_dfe_inputs(new_path + \"/\" + lower, new_path + \"/\" + upper)\n",
    "            \n",
    "            data_path_1 = \"/scratch/research/tmp_apps/dfe-alpha-release-2.16/data/\"\n",
    "            runs_folder = \"/scratch/research/projects/chlamydomonas/network_evolution/analysis/August2020_Sara/bootstrap/runs\"\n",
    "            print(os.getcwd())\n",
    "            ############ class 0 lower and upper\n",
    "#             ##lower \n",
    "            \n",
    "            !echo \"data_path_1    $data_path_1 \\nsfs_input_file    $runs_folder/$folder/$lower/SFS.$lower_$network_measure.txt \\nest_dfe_results_dir   $runs_folder/$folder/$lower/$lower_$network_measure_neutral \\nsite_class 0 \\nfold       1 \\nepochs\"\n",
    "            !echo -e \"data_path_1    $data_path_1 \\nsfs_input_file    $runs_folder/$folder/$lower/SFS.$lower_$network_measure.txt \\nest_dfe_results_dir   $runs_folder/$folder/$lower/$lower_$network_measure_neutral \\nsite_class 0 \\nfold       1 \\nepochs     2 \\nsearch_n2       1 \\nt2_variable     1 \\nt2              50\" > $runs_folder/$folder/$lower/run.$lower.est_dfe-site_class0.config.txt            \n",
    "            \n",
    "#             ##upper\n",
    "#             !echo -e \"data_path_1    /scratch/research/tmp_apps/dfe-alpha-release-2.16/data/ \\nsfs_input_file    /scratch/research/projects/chlamydomonas/network_evolution/analysis/dfe/bootstrap/$folder/upper10th/SFS.upper10th_connectivity.txt \\nest_dfe_results_dir   /scratch/research/projects/chlamydomonas/network_evolution/analysis/dfe/bootstrap/$folder/upper10th/upper10th_connectivity_neutral \\nsite_class 0 \\nfold       1 \\nepochs     2 \\nsearch_n2       1 \\nt2_variable     1 \\nt2              50\" > /scratch/research/projects/chlamydomonas/network_evolution/analysis/dfe/bootstrap/$folder/upper10th/run.upper10th.est_dfe-site_class0.config.txt            \n",
    "\n",
    "#             !bash dfe_first_step.sh /scratch/research/projects/chlamydomonas/network_evolution/analysis/dfe/bootstrap/$folder/lower10th/run.lower10th.est_dfe-site_class0.config.txt\n",
    "#             !bash dfe_first_step.sh /scratch/research/projects/chlamydomonas/network_evolution/analysis/dfe/bootstrap/$folder/upper10th/run.upper10th.est_dfe-site_class0.config.txt\n",
    "#             i+= 1\n",
    "#             print(\"++++++++++++++++++++++++++++++++++++++*******\" + str(i) + \"*********************************************************************************\" )\n",
    "\n",
    "\n",
    "\n",
    "\n",
    "\n",
    "# #             #lower class1\n",
    "#             !echo -e \"data_path_1    /scratch/research/tmp_apps/dfe-alpha-release-2.16/data/ \\nsfs_input_file    /scratch/research/projects/chlamydomonas/network_evolution/analysis/dfe/bootstrap/$folder/lower10th/SFS.lower10th_connectivity.txt \\nest_dfe_results_dir   /scratch/research/projects/chlamydomonas/network_evolution/analysis/dfe/bootstrap/$folder/lower10th/lower10th_connectivity_selected \\nest_dfe_demography_results_file    /scratch/research/projects/chlamydomonas/network_evolution/analysis/dfe/bootstrap/$folder/lower10th/lower10th_connectivity_neutral/est_dfe.out \\nsite_class    1 \\nfold    1 \\nepochs    2 \\nmean_s_variable    1 \\nmean_s    -0.1 \\nbeta_variable    1 \\nbeta    0.5\" > /scratch/research/projects/chlamydomonas/network_evolution/analysis/dfe/bootstrap/$folder/lower10th/run.lower10th.est_dfe-site_class1.config.txt            \n",
    "#             !echo -e \"data_path_1    /scratch/research/tmp_apps/dfe-alpha-release-2.16/data/ \\nsfs_input_file    /scratch/research/projects/chlamydomonas/network_evolution/analysis/dfe/bootstrap/$folder/upper10th/SFS.upper10th_connectivity.txt \\nest_dfe_results_dir   /scratch/research/projects/chlamydomonas/network_evolution/analysis/dfe/bootstrap/$folder/upper10th/upper10th_connectivity_selected \\nest_dfe_demography_results_file    /scratch/research/projects/chlamydomonas/network_evolution/analysis/dfe/bootstrap/$folder/upper10th/upper10th_connectivity_neutral/est_dfe.out \\nsite_class    1 \\nfold    1 \\nepochs    2 \\nmean_s_variable    1 \\nmean_s    -0.1 \\nbeta_variable    1 \\nbeta    0.5\" > /scratch/research/projects/chlamydomonas/network_evolution/analysis/dfe/bootstrap/$folder/upper10th/run.upper10th.est_dfe-site_class1.config.txt            \n",
    "\n",
    "#             !bash dfe_first_step.sh /scratch/research/projects/chlamydomonas/network_evolution/analysis/dfe/bootstrap/$folder/lower10th/run.lower10th.est_dfe-site_class1.config.txt\n",
    "#             !bash dfe_first_step.sh /scratch/research/projects/chlamydomonas/network_evolution/analysis/dfe/bootstrap/$folder/upper10th/run.upper10th.est_dfe-site_class1.config.txt\n",
    "            \n",
    "    \n",
    "    \n",
    "    \n",
    "    \n",
    "    \n",
    "    \n",
    "    \n",
    "    \n",
    "#             !bash dfe_second_step.sh /scratch/research/projects/chlamydomonas/network_evolution/analysis/dfe/bootstrap/$folder/upper10th/upper10th_connectivity_selected/est_dfe.out $folder/upperDFE.results.txt\n",
    "#             !bash dfe_second_step.sh /scratch/research/projects/chlamydomonas/network_evolution/analysis/dfe/bootstrap/$folder/lower10th/lower10th_connectivity_selected/est_dfe.out $folder/lowerDFE.results.txt\n",
    "            \n",
    "    \n",
    "    \n",
    "    \n",
    "#             !echo -e \"data_path_1    /scratch/research/tmp_apps/dfe-alpha-release-2.16/data/ \\ndivergence_file         /scratch/research/projects/chlamydomonas/network_evolution/analysis/dfe/bootstrap/$folder/lower10th/divergence.lower10th_connectivity.txt \\nest_alpha_omega_results_file    /scratch/research/projects/chlamydomonas/network_evolution/analysis/dfe/bootstrap/$folder/lower10th/est_alpha_omega.out \\nest_dfe_results_file     /scratch/research/projects/chlamydomonas/network_evolution/analysis/dfe/bootstrap/$folder/lower10th/lower10th_connectivity_selected/est_dfe.out \\nneut_egf_file           /scratch/research/projects/chlamydomonas/network_evolution/analysis/dfe/bootstrap/$folder/lower10th/lower10th_connectivity_neutral/neut_egf.out \\nsel_egf_file            /scratch/research/projects/chlamydomonas/network_evolution/analysis/dfe/bootstrap/$folder/lower10th/lower10th_connectivity_selected/sel_egf.out \\ndo_jukes_cantor         1 \\nremove_poly             1\" > /scratch/research/projects/chlamydomonas/network_evolution/analysis/dfe/bootstrap/$folder/lower10th/run.lower10th.est_alpha_omega.config.txt\n",
    "#             !echo -e \"data_path_1    /scratch/research/tmp_apps/dfe-alpha-release-2.16/data/ \\ndivergence_file         /scratch/research/projects/chlamydomonas/network_evolution/analysis/dfe/bootstrap/$folder/upper10th/divergence.upper10th_connectivity.txt \\nest_alpha_omega_results_file    /scratch/research/projects/chlamydomonas/network_evolution/analysis/dfe/bootstrap/$folder/upper10th/est_alpha_omega.out \\nest_dfe_results_file     /scratch/research/projects/chlamydomonas/network_evolution/analysis/dfe/bootstrap/$folder/upper10th/upper10th_connectivity_selected/est_dfe.out \\nneut_egf_file           /scratch/research/projects/chlamydomonas/network_evolution/analysis/dfe/bootstrap/$folder/upper10th/upper10th_connectivity_neutral/neut_egf.out \\nsel_egf_file            /scratch/research/projects/chlamydomonas/network_evolution/analysis/dfe/bootstrap/$folder/upper10th/upper10th_connectivity_selected/sel_egf.out \\ndo_jukes_cantor         1 \\nremove_poly             1\" > /scratch/research/projects/chlamydomonas/network_evolution/analysis/dfe/bootstrap/$folder/upper10th/run.upper10th.est_alpha_omega.config.txt\n",
    "\n",
    "#             !bash testing.sh /scratch/research/projects/chlamydomonas/network_evolution/analysis/dfe/bootstrap/$folder/upper10th/run.upper10th.est_alpha_omega.config.txt  \n",
    "#             !bash testing.sh /scratch/research/projects/chlamydomonas/network_evolution/analysis/dfe/bootstrap/$folder/lower10th/run.lower10th.est_alpha_omega.config.txt  \n",
    "            \n",
    "# #             /scratch/research/projects/chlamydomonas/network_evolution/analysis/dfe/bootstrap/$folder/alpha_omega_upper_results.txt\n",
    "# #             /scratch/research/projects/chlamydomonas/network_evolution/analysis/dfe/bootstrap/$folder/alpha_omega_lower_results.txt\n",
    "#             get_dfe_outputs('/scratch/research/projects/chlamydomonas/network_evolution/analysis/dfe/bootstrap/' + folder + '/upper10th/est_alpha_omega.out', \"upper\")\n",
    "#             get_dfe_outputs('/scratch/research/projects/chlamydomonas/network_evolution/analysis/dfe/bootstrap/' + folder + '/lower10th/est_alpha_omega.out', \"lower\")\n",
    "\n"
   ]
  },
  {
   "cell_type": "code",
   "execution_count": 1,
   "metadata": {},
   "outputs": [],
   "source": [
    "import os\n",
    "import re\n",
    "\n",
    "def get_dfe_outputs(filename, t):\n",
    "    with open(filename) as f:\n",
    "        content = f.readlines()[0]\n",
    "        return content\n",
    "        match = re.search('0.000000 1.000000 (\\d+.\\d+) 1.000000 10.000000 (\\d+.\\d+) 10.000000 100.000000 (\\d+.\\d+) 100.000000 -99.000000 (\\d+.\\d+)', content)\n",
    "\n",
    "\n",
    "rootdir = '/scratch/research/projects/chlamydomonas/network_evolution/analysis/dfe/bootstrap'\n",
    "i = 0\n",
    "\n",
    "file_out_lower = open('connectivity_irc1080_outfile_lower.csv', 'w')\n",
    "file_out_upper = open('connectivity_irc1080_outfile_upper.csv', 'w')\n",
    "\n",
    "for subdir, dirs, files in os.walk(rootdir):\n",
    "    for folder in dirs:\n",
    "        if folder.startswith(\"./runs/r\"):\n",
    "            file_out_lower.write(get_dfe_outputs('/scratch/research/projects/chlamydomonas/network_evolution/analysis/dfe/bootstrap/' + folder + '/lowerDFE.results.txt', \"lower\"))\n",
    "            file_out_upper.write(get_dfe_outputs('/scratch/research/projects/chlamydomonas/network_evolution/analysis/dfe/bootstrap/' + folder + '/upperDFE.results.txt', \"upper\"))\n",
    "\n",
    "file_out_lower.close()\n",
    "file_out_upper.close()"
   ]
  },
  {
   "cell_type": "code",
   "execution_count": 14,
   "metadata": {},
   "outputs": [
    {
     "name": "stdout",
     "output_type": "stream",
     "text": [
      "/scratch/research/projects/chlamydomonas/network_evolution/analysis/August2020_Sara/bootstrap/runs/run84/upper10th\n"
     ]
    }
   ],
   "source": [
    "print(os.getcwd())"
   ]
  }
 ],
 "metadata": {
  "kernelspec": {
   "display_name": "Python 3",
   "language": "python",
   "name": "python3"
  },
  "language_info": {
   "codemirror_mode": {
    "name": "ipython",
    "version": 3
   },
   "file_extension": ".py",
   "mimetype": "text/x-python",
   "name": "python",
   "nbconvert_exporter": "python",
   "pygments_lexer": "ipython3",
   "version": "3.5.1"
  }
 },
 "nbformat": 4,
 "nbformat_minor": 2
}
